{
 "cells": [
  {
   "cell_type": "markdown",
   "id": "0558ed17",
   "metadata": {},
   "source": [
    "# Fundamentals of Python\n",
    "\n",
    "This notebook should serve as a good starting point for persons who want to get acquainted with Python and are in the Finance space\n",
    "\n",
    "Keyboard Shortcut: use `ctrl + shift` to run a cell and `ctrl + /` to create a single line comment \n",
    "\n",
    "In order to return some output to the console, use the `print()` function to do so. We will talk more about it later on"
   ]
  },
  {
   "cell_type": "code",
   "execution_count": 5,
   "id": "0139838e",
   "metadata": {},
   "outputs": [],
   "source": [
    "# This is a 'comment' whenever a cell is run, this will be ignored. Use these to explain what your code is doing, in order to ensure that persons who read your code aren't confused\n",
    "\n",
    "\"\"\"\n",
    "Triple (doesn't matter if it's double or single) quotes create multi-line comment\n",
    "\n",
    "If you know your comment is gonna be long, use triple quotes instead of the '#' sign. Let's rewrite the comment above:\n",
    "\n",
    "This is a 'comment' (the ) whenever a cell is run, this will be ignored. \n",
    "Use these to explain what your code is doing, in order to ensure that persons who read your code aren't confused\n",
    "\n",
    "\"\"\"\n",
    "\n",
    "# NOTE - Python does not have a built-in mechanism for multi-line comments\n",
    "# The triple line 'comments' noted above are called docstrings and are just a workaround\n",
    "# They will produce an output if they are the only occupants of a cell\n",
    "# Run this cell with the expression below commented and you will get and output\n",
    "# If it isn't commented you will not get an output\n",
    "\n",
    "x = 5\n"
   ]
  },
  {
   "cell_type": "markdown",
   "id": "b6793dbf",
   "metadata": {},
   "source": [
    "## Mathematical Operations\n",
    "\n",
    "Python is similar to excel (or any calculator for that matter) in how it carries calculations"
   ]
  },
  {
   "cell_type": "code",
   "execution_count": 6,
   "id": "22f7cc4c",
   "metadata": {},
   "outputs": [
    {
     "name": "stdout",
     "output_type": "stream",
     "text": [
      "10\n",
      "0\n",
      "25\n",
      "1.0\n"
     ]
    }
   ],
   "source": [
    "# addition, subtraction, multiplication and division all work the same \n",
    "\n",
    "print(5+5)\n",
    "print(5-5)\n",
    "print(5*5)\n",
    "print(5/5)"
   ]
  },
  {
   "cell_type": "code",
   "execution_count": 23,
   "id": "7fd1e3dd",
   "metadata": {},
   "outputs": [
    {
     "data": {
      "text/plain": [
       "2.23606797749979"
      ]
     },
     "execution_count": 23,
     "metadata": {},
     "output_type": "execute_result"
    }
   ],
   "source": [
    "\n",
    "\"\"\"\n",
    "Note that only the last statement is returned to the console. \n",
    "\n",
    "If you do not use print statements, that is exactly what will happen. \n",
    "\n",
    "If you wanted to return value for all the operations, you would have to wrap all the statements in print statements like the cell above \n",
    "\"\"\"\n",
    "\n",
    "# In addition to the normal operations, Python (and other programming languages) have additional ones:\n",
    "\n",
    "# integer division\n",
    "\n",
    "5 // 2\n",
    "# The output would be 2. Why? 5 divided by 2 gives 2, with a remainder of 1. This operation returns the 2\n",
    "# In summary, it returns how many time 5 can be divided by 2 without leaving a remainder\n",
    "\n",
    "# modulus \n",
    "\n",
    "5 % 2\n",
    "# the output would be 1. It returns the remainder when 5 is divided by 2\n",
    "\n",
    "# exponents\n",
    "\n",
    "5 ** 2 \n",
    "# this equal to 5 squared\n",
    "\n",
    "5 ** 0.5 \n",
    "# this is equal to the square root of 5\n"
   ]
  },
  {
   "cell_type": "code",
   "execution_count": 11,
   "id": "cc571d05",
   "metadata": {},
   "outputs": [
    {
     "name": "stdout",
     "output_type": "stream",
     "text": [
      "5 + 5 = 10\n",
      "5 + 5 = 10\n",
      "5 + 5 = 10\n"
     ]
    }
   ],
   "source": [
    "\"\"\"\n",
    "\n",
    "They work as intended, but suppose you should practice having more comprehensive print statements. \n",
    "\n",
    "There are multiple ways to do this. Examples are below:\n",
    "\n",
    "\"\"\"\n",
    "\n",
    "print(\"5 + 5 =\", 5+5)\n",
    "print(\"5 + 5 = {}\".format(5+5))\n",
    "\n",
    "# My favorite example is below. They are called f-strings. They have a lot of functionality which you'll see later on\n",
    "# In addition to the functionality, they offer more readable code\n",
    "\n",
    "print(f\"5 + 5 = {5+5}\")\n",
    "\n",
    "\n",
    "\"\"\"\n",
    "Note that whenever we typed 'normal' output in the print statement, we used the double (or single) quotes. \n",
    "These are called string literals. We will explore more in the next section\n",
    "\n",
    "\"\"\""
   ]
  },
  {
   "cell_type": "markdown",
   "id": "60cfd482",
   "metadata": {},
   "source": [
    "# Data Types\n",
    "\n",
    "Since we have some useful experience in Python, let's look at the main data types:\n",
    "\n",
    "If you want to check the data type of a variable (we will explore these in the next section), use this combination: `print(type(variable_name))`"
   ]
  },
  {
   "cell_type": "code",
   "execution_count": 25,
   "id": "0bb63a8f",
   "metadata": {},
   "outputs": [
    {
     "name": "stdout",
     "output_type": "stream",
     "text": [
      "<class 'str'>\n"
     ]
    }
   ],
   "source": [
    "# Strings - they are enclosed in double (or single) quotes\n",
    "\n",
    "\"This is a string\"\n",
    "'This is also a string'\n",
    "\"\"\"This can also be used as a string\"\"\"\n",
    "\"5\" # This is a string\n",
    "'5+5' # This is also a string\n",
    "\n",
    "print(type('5+5'))\n",
    "\n",
    "# the 'str' means string"
   ]
  },
  {
   "cell_type": "code",
   "execution_count": 27,
   "id": "45e22803",
   "metadata": {},
   "outputs": [
    {
     "name": "stdout",
     "output_type": "stream",
     "text": [
      "<class 'int'>\n"
     ]
    }
   ],
   "source": [
    "# Integers - in this programming world, this refers to all whole numbers (even 0)\n",
    "\n",
    "2\n",
    "323\n",
    "544\n",
    "675\n",
    "\n",
    "# these are all integers, represented by 'int'\n",
    "\n",
    "print(type(123432143))"
   ]
  },
  {
   "cell_type": "code",
   "execution_count": 29,
   "id": "c2b565c3",
   "metadata": {},
   "outputs": [
    {
     "name": "stdout",
     "output_type": "stream",
     "text": [
      "<class 'float'>\n",
      "<class 'float'>\n"
     ]
    }
   ],
   "source": [
    "# Floats - all decimal values \n",
    "\n",
    "23.9\n",
    "234.00000001\n",
    "2.09567899873\n",
    "\n",
    "print(type(1.0))\n",
    "print(type(0.0))"
   ]
  },
  {
   "cell_type": "code",
   "execution_count": 31,
   "id": "ecd7d011",
   "metadata": {},
   "outputs": [
    {
     "name": "stdout",
     "output_type": "stream",
     "text": [
      "<class 'bool'>\n",
      "<class 'bool'>\n"
     ]
    }
   ],
   "source": [
    "# Boolean - this is unique, in that it only has two values: True and False\n",
    "\n",
    "print(type(True))\n",
    "print(type(False))\n",
    "\n",
    "# represented by 'bool'"
   ]
  },
  {
   "cell_type": "markdown",
   "id": "d74040d4",
   "metadata": {},
   "source": [
    "# Variable Declaration \n",
    "\n",
    "Now that we have familarized ourselves with the main data types, lets look at how to store them. A variable stores a data type for use later on. It is important to note a few things:\n",
    "\n",
    "1. Variable names can only begin with letters or underscores \n",
    "2. Variable names can only consist of letters, underscores, and numbers\n",
    "3. Variable names are case sensitive - `this_variable` is not the same as `This_variable`\n",
    "\n",
    "You assign some value/data to a variable using the assignment operator `=`. Contrary to what you might think, this does not mean `equals`. It means that you're assigning a value to a variable. The operator which checks if a value is `equal/equivalent to` another value is the `==` operator. We will explore more about this operator soon"
   ]
  },
  {
   "cell_type": "code",
   "execution_count": 5,
   "id": "2f5467b9",
   "metadata": {},
   "outputs": [],
   "source": [
    "first_variable = 25 \n",
    "second_variable = 3.14159\n",
    "string = 'Hello'\n",
    "name = \"John\"\n",
    "boolean = True\n",
    "something_cool = f\"{string}, {name}!\" # this is a cool application of f-strings"
   ]
  },
  {
   "cell_type": "code",
   "execution_count": 7,
   "id": "fa2f49f7",
   "metadata": {},
   "outputs": [
    {
     "name": "stdout",
     "output_type": "stream",
     "text": [
      "25\n",
      "3.14159\n",
      "28.14159\n",
      "Hello\n",
      "True\n",
      "Hello, John!\n"
     ]
    }
   ],
   "source": [
    "print(first_variable)\n",
    "print(second_variable)\n",
    "print(first_variable + second_variable)\n",
    "print(string)\n",
    "print(boolean)\n",
    "print(something_cool)"
   ]
  },
  {
   "cell_type": "markdown",
   "id": "0701b33d",
   "metadata": {},
   "source": [
    "# Comparisons\n",
    "\n",
    "In Python, there are many ways to compare similar data types. You have greater than `>`, greater than or equal to `>=`, less than `<`, less than or equal to `<=`, equal to `==`, and not equal to `!=`. These comparisons return a boolean value: `True` or `False`"
   ]
  },
  {
   "cell_type": "code",
   "execution_count": 11,
   "id": "994d608e",
   "metadata": {},
   "outputs": [
    {
     "name": "stdout",
     "output_type": "stream",
     "text": [
      "True\n",
      "False\n",
      "True\n",
      "True\n"
     ]
    }
   ],
   "source": [
    "print(True == True) # True\n",
    "print(1 >= 2) # False\n",
    "print(1 != 2) # True\n",
    "print(\"hello\" == \"hello\") # True"
   ]
  },
  {
   "cell_type": "code",
   "execution_count": 17,
   "id": "b2d6c0b6",
   "metadata": {},
   "outputs": [
    {
     "ename": "TypeError",
     "evalue": "'>' not supported between instances of 'str' and 'int'",
     "output_type": "error",
     "traceback": [
      "\u001b[1;31m---------------------------------------------------------------------------\u001b[0m",
      "\u001b[1;31mTypeError\u001b[0m                                 Traceback (most recent call last)",
      "\u001b[1;32m~\\AppData\\Local\\Temp/ipykernel_14756/1281746318.py\u001b[0m in \u001b[0;36m<module>\u001b[1;34m\u001b[0m\n\u001b[0;32m      1\u001b[0m \u001b[0minteger\u001b[0m \u001b[1;33m=\u001b[0m \u001b[1;36m5\u001b[0m\u001b[1;33m\u001b[0m\u001b[1;33m\u001b[0m\u001b[0m\n\u001b[0;32m      2\u001b[0m \u001b[0mstring\u001b[0m \u001b[1;33m=\u001b[0m \u001b[1;34m'hello'\u001b[0m\u001b[1;33m\u001b[0m\u001b[1;33m\u001b[0m\u001b[0m\n\u001b[1;32m----> 3\u001b[1;33m \u001b[0mresult\u001b[0m \u001b[1;33m=\u001b[0m \u001b[0mstring\u001b[0m \u001b[1;33m>\u001b[0m \u001b[0minteger\u001b[0m\u001b[1;33m\u001b[0m\u001b[1;33m\u001b[0m\u001b[0m\n\u001b[0m\u001b[0;32m      4\u001b[0m \u001b[1;33m\u001b[0m\u001b[0m\n\u001b[0;32m      5\u001b[0m \u001b[0mprint\u001b[0m\u001b[1;33m(\u001b[0m\u001b[0mresult\u001b[0m\u001b[1;33m)\u001b[0m\u001b[1;33m\u001b[0m\u001b[1;33m\u001b[0m\u001b[0m\n",
      "\u001b[1;31mTypeError\u001b[0m: '>' not supported between instances of 'str' and 'int'"
     ]
    }
   ],
   "source": [
    "integer = 5\n",
    "string = 'hello'\n",
    "result = string > integer\n",
    "\n",
    "print(result)\n",
    "\n",
    "# comparisons must be between the values of the same data type, or else you will get an error"
   ]
  },
  {
   "cell_type": "code",
   "execution_count": 16,
   "id": "609dad26",
   "metadata": {},
   "outputs": [
    {
     "name": "stdout",
     "output_type": "stream",
     "text": [
      "True\n"
     ]
    }
   ],
   "source": [
    "float_variable = 5.5\n",
    "\n",
    "result2 = float_variable > integer\n",
    "\n",
    "print(result2)"
   ]
  },
  {
   "cell_type": "markdown",
   "id": "8c5611db",
   "metadata": {},
   "source": [
    "## Control Flow Statements\n",
    "\n",
    "We will be looking at a few statements that are used to 'customize' the flow of a program. These include: ``if-else-statements``, ``for-loops``, and ``while-loops``. These are relatively simple concepts, but their combined usefulness knows no bounds."
   ]
  },
  {
   "cell_type": "markdown",
   "id": "ecec38ac",
   "metadata": {},
   "source": [
    "### If-statements\n",
    "\n",
    "They follow the form:\n",
    "\n",
    "```\n",
    "if (some_condition):\n",
    "    do_something\n",
    "    \n",
    "```\n",
    "    \n",
    "The ``some_condition`` variable should evaluate to boolean expression for this statement to work"
   ]
  },
  {
   "cell_type": "code",
   "execution_count": 23,
   "id": "d33d8345",
   "metadata": {},
   "outputs": [
    {
     "name": "stdout",
     "output_type": "stream",
     "text": [
      "Yes\n"
     ]
    }
   ],
   "source": [
    "a = 1\n",
    "b = 2\n",
    "\n",
    "if (a < b):\n",
    "    print(\"Yes\")"
   ]
  },
  {
   "cell_type": "code",
   "execution_count": 24,
   "id": "edd669ae",
   "metadata": {},
   "outputs": [
    {
     "data": {
      "text/plain": [
       "True"
      ]
     },
     "execution_count": 24,
     "metadata": {},
     "output_type": "execute_result"
    }
   ],
   "source": [
    "(a > b) == 0"
   ]
  },
  {
   "cell_type": "code",
   "execution_count": 25,
   "id": "f117f60e",
   "metadata": {},
   "outputs": [
    {
     "name": "stdout",
     "output_type": "stream",
     "text": [
      "No\n"
     ]
    }
   ],
   "source": [
    "if (a > b):\n",
    "    print(\"Yes\")\n",
    "else:\n",
    "    print(\"No\")"
   ]
  },
  {
   "cell_type": "code",
   "execution_count": 26,
   "id": "eebe2d67",
   "metadata": {},
   "outputs": [
    {
     "name": "stdout",
     "output_type": "stream",
     "text": [
      "No\n"
     ]
    }
   ],
   "source": [
    "if (a > b):\n",
    "    print(\"Yes\")\n",
    "elif (a == b):\n",
    "    print(\"They are equal\")\n",
    "else:\n",
    "    print(\"No\")"
   ]
  },
  {
   "cell_type": "markdown",
   "id": "9fbe1acd",
   "metadata": {},
   "source": [
    "There can only be one ``if`` and ``else`` condition. On the other hand, however, you can have as many ``elif`` comparisions as you wish."
   ]
  },
  {
   "cell_type": "markdown",
   "id": "cbe01ebd",
   "metadata": {},
   "source": [
    "### For-loops\n",
    "\n",
    "They follow the form:\n",
    "\n",
    "```\n",
    "for i in iterable_object:\n",
    "    do_something\n",
    "```\n",
    "\n",
    "Typically, the ``do_something`` is typically related to ``i``. It is also important to note that ``i`` can be literally anything you want it be. For example, you could replace it with ``wertrewqsc`` or ``kjkdmfndewonc``."
   ]
  },
  {
   "cell_type": "code",
   "execution_count": 32,
   "id": "2832531b",
   "metadata": {},
   "outputs": [
    {
     "name": "stdout",
     "output_type": "stream",
     "text": [
      "1\n",
      "2\n",
      "3\n",
      "4\n",
      "5\n",
      "This was the last loop\n",
      "\n",
      "1\n",
      "2\n",
      "3\n",
      "4\n",
      "5\n",
      "This was the last loop\n"
     ]
    }
   ],
   "source": [
    "arr = [1, 2, 3, 4, 5]\n",
    "\n",
    "for i in arr:\n",
    "    print(i)\n",
    "    if i == 5:\n",
    "        print(\"This was the last loop\\n\")\n",
    "    \n",
    "for i in range(len(arr)):\n",
    "    print(arr[i])\n",
    "    \n",
    "    if (i == (len(arr) - 1)):\n",
    "        print(\"This was the last loop\")"
   ]
  },
  {
   "cell_type": "code",
   "execution_count": 38,
   "id": "e6a9aae7",
   "metadata": {},
   "outputs": [
    {
     "name": "stdout",
     "output_type": "stream",
     "text": [
      "hello"
     ]
    }
   ],
   "source": [
    "\n",
    "for i in \"hello\":\n",
    "    print(i, end=\"\")"
   ]
  },
  {
   "cell_type": "markdown",
   "id": "7a357852",
   "metadata": {},
   "source": [
    "### While-loop\n",
    "\n",
    "Generally follows the form:\n",
    "\n",
    "```\n",
    "while (condition):\n",
    "    do_something\n",
    "```\n",
    "\n",
    "Typically used to repeat operations/perform loops when the number of iterations/loops aren't known beforehand."
   ]
  },
  {
   "cell_type": "code",
   "execution_count": 41,
   "id": "5d3d286c",
   "metadata": {},
   "outputs": [
    {
     "name": "stdout",
     "output_type": "stream",
     "text": [
      "0\n",
      "1\n",
      "2\n",
      "3\n",
      "4\n",
      "5\n",
      "6\n"
     ]
    }
   ],
   "source": [
    "condition = True\n",
    "count = 0\n",
    "\n",
    "while (condition):\n",
    "    \n",
    "    print(count)\n",
    "    \n",
    "    if count > 5:\n",
    "        condition = False\n",
    "        \n",
    "    count += 1\n",
    "    "
   ]
  },
  {
   "cell_type": "code",
   "execution_count": 44,
   "id": "3103286d",
   "metadata": {},
   "outputs": [
    {
     "name": "stdout",
     "output_type": "stream",
     "text": [
      "0\n",
      "1\n",
      "2\n",
      "3\n",
      "4\n",
      "5\n"
     ]
    }
   ],
   "source": [
    "count = 0\n",
    "\n",
    "while (count <= 5):\n",
    "    \n",
    "    print(count)\n",
    "        \n",
    "    count += 1"
   ]
  },
  {
   "cell_type": "markdown",
   "id": "25b83996",
   "metadata": {},
   "source": [
    "## Functions"
   ]
  },
  {
   "cell_type": "code",
   "execution_count": 13,
   "id": "e2a38424",
   "metadata": {},
   "outputs": [],
   "source": [
    "def add(x, y):\n",
    "    return x + y\n",
    "\n",
    "def add_improved(x: int, y: int) -> int:\n",
    "    assert isinstance(x, int), \"x should be an integer\"\n",
    "    assert isinstance(y, int), \"y should be an integer\"\n",
    "    \n",
    "    return x + y\n",
    "\n",
    "def abs_val(x):\n",
    "    if x >= 0:\n",
    "        return x\n",
    "    else: \n",
    "        return -x"
   ]
  },
  {
   "cell_type": "markdown",
   "id": "872b14ff",
   "metadata": {},
   "source": [
    "## Lists, Tuples, Dictionaries\n",
    "\n",
    "Lists and dictionaries are immutable datatypes. Meaning, they can be altered after values have been assigned. Lists are pretty simple: they just store data. Dictionaries stores data in key:value pairs. \n",
    "\n",
    "Tuples are immutable, meaning that they cannot be altered once the values have been assigned\n",
    "\n",
    "Indexing starts at 0 and ends at n (the length of the lists) - 1"
   ]
  },
  {
   "cell_type": "code",
   "execution_count": 7,
   "id": "02136b77",
   "metadata": {},
   "outputs": [
    {
     "name": "stdout",
     "output_type": "stream",
     "text": [
      "There\n",
      "2\n",
      "True\n"
     ]
    }
   ],
   "source": [
    "list1 = ['hello', 1, True, 2.4]\n",
    "dict1 = {\"Hello\": \"There\", 1:2, \"Hi\":True}\n",
    "tuple1 = (\"hello\", \"there\", 1 , 2)\n",
    "\n",
    "for i in dict1.values():\n",
    "    print(i)"
   ]
  },
  {
   "cell_type": "code",
   "execution_count": 9,
   "id": "d9e95c9c",
   "metadata": {},
   "outputs": [
    {
     "data": {
      "text/plain": [
       "'hello'"
      ]
     },
     "execution_count": 9,
     "metadata": {},
     "output_type": "execute_result"
    }
   ],
   "source": [
    "list1[0]"
   ]
  },
  {
   "cell_type": "markdown",
   "id": "6048b4b3",
   "metadata": {},
   "source": [
    "## Game time!!\n",
    "\n",
    "Time to put what we've learnt into practice. We're gonna be making a simple rock, paper, scissors game. This sould solidify what we've gone over."
   ]
  },
  {
   "cell_type": "code",
   "execution_count": null,
   "id": "0c6b3d1a",
   "metadata": {},
   "outputs": [],
   "source": []
  },
  {
   "cell_type": "markdown",
   "id": "2668467f",
   "metadata": {},
   "source": [
    "## OOP"
   ]
  },
  {
   "cell_type": "code",
   "execution_count": 31,
   "id": "3ce04412",
   "metadata": {},
   "outputs": [],
   "source": [
    "class ATM:\n",
    "    atm_counter = 0\n",
    "\n",
    "    def __init__(self, name: str, age: int, opening_balance: float = 1000) -> None:\n",
    "        self.name = name\n",
    "        self.age = age\n",
    "        self.balance = opening_balance\n",
    "        ATM.atm_counter += 1\n",
    "\n",
    "    def get_balance(self) -> float:\n",
    "        return self.balance\n",
    "    \n",
    "    def deposit(self, amount: float) -> None:\n",
    "        self.balance += amount\n",
    "        # Do we see anything wrong here? If so, what?\n",
    "    \n",
    "    def withdraw(self, amount: float) -> None:\n",
    "        self.balance -= amount\n",
    "        # There is definitely something wrong here. How do we fix it???\n",
    "\n",
    "    def __str__(self) -> None:\n",
    "        return f\"This is an ATM instance for {self.name}. There is ${self.balance} in account.\"\n",
    "    \n",
    "    @staticmethod\n",
    "    def get_atm_counter() -> int:\n",
    "        return ATM.atm_counter"
   ]
  },
  {
   "cell_type": "code",
   "execution_count": 32,
   "id": "baa01fed",
   "metadata": {},
   "outputs": [
    {
     "name": "stdout",
     "output_type": "stream",
     "text": [
      "This is an ATM instance for Anthony. There is $1500 in account.\n",
      "This is an ATM instance for Anthony. There is $1300 in account.\n"
     ]
    }
   ],
   "source": [
    "atm_a = ATM(\"Anthony\", 20, 1500)\n",
    "atm_b = ATM(\"Anthony\", 20, 1300)\n",
    "ATM(\"Anthony\", 20, 1300)\n",
    "\n",
    "print(atm_a)\n",
    "print(atm_b)"
   ]
  },
  {
   "cell_type": "code",
   "execution_count": 33,
   "id": "6cc4e1b0",
   "metadata": {},
   "outputs": [
    {
     "data": {
      "text/plain": [
       "3"
      ]
     },
     "execution_count": 33,
     "metadata": {},
     "output_type": "execute_result"
    }
   ],
   "source": [
    "ATM.get_atm_counter()"
   ]
  },
  {
   "cell_type": "markdown",
   "id": "2e675180",
   "metadata": {},
   "source": [
    "## `Builder` (pseudo) `Design Pattern`"
   ]
  },
  {
   "cell_type": "code",
   "execution_count": 26,
   "id": "200294ea",
   "metadata": {},
   "outputs": [],
   "source": [
    "\"\"\"\n",
    "Script to show how a builder design pattern works\n",
    "\"\"\"\n",
    "\n",
    "from abc import ABC, abstractmethod\n",
    "from typing import Callable\n",
    "import pandas as pd\n",
    "import yfinance as yf\n",
    "\n",
    "\n",
    "class IAlpha(ABC):\n",
    "    \"\"\"\n",
    "    The builder interface that specifies the methods for creating an alpha\n",
    "    \"\"\"\n",
    "\n",
    "    @abstractmethod\n",
    "    def get_data(self) -> pd.DataFrame:\n",
    "        \"\"\"\n",
    "        returns the data\n",
    "        \"\"\"\n",
    "        raise NotImplementedError\n",
    "\n",
    "    @abstractmethod\n",
    "    def run(self) -> pd.DataFrame:\n",
    "        \"\"\"\n",
    "        runs the strategy\n",
    "        \"\"\"\n",
    "        raise NotImplementedError\n",
    "\n",
    "\n",
    "class FormulaicAlphaBuilder(IAlpha):\n",
    "    \"\"\"\n",
    "    Follows the Builder interface\n",
    "    \"\"\"\n",
    "\n",
    "    def __init__(\n",
    "        self,\n",
    "        alpha_func: Callable[[pd.DataFrame], pd.DataFrame],\n",
    "        start_date: str,\n",
    "        vol_target: float,\n",
    "        get_data: bool = None,\n",
    "    ) -> None:\n",
    "        super(IAlpha).__init__()\n",
    "\n",
    "        self._alpha_func = alpha_func\n",
    "        self.start_date = start_date\n",
    "        self.vol_target = vol_target\n",
    "        self.data = get_data if get_data is not None else self.get_data()\n",
    "\n",
    "    def run(self) -> pd.DataFrame:\n",
    "        print(\"Getting this 4 sharpe alpha...\")\n",
    "        return self._alpha_func(self.data)\n",
    "\n",
    "    def get_data(self) -> pd.DataFrame:\n",
    "        return yf.download(\"^GSPC\")[\"Adj Close\"]"
   ]
  },
  {
   "cell_type": "code",
   "execution_count": 27,
   "id": "071b7943",
   "metadata": {},
   "outputs": [],
   "source": [
    "\"\"\"\n",
    "This would be a separate file called `alpha_functions.py`.\n",
    "It would house all the necessary alpha definitions we need\n",
    "\"\"\"\n",
    "def alpha_01(data: pd.DataFrame) -> pd.DataFrame:\n",
    "    \"\"\"\n",
    "    Alpha function\n",
    "    \"\"\"\n",
    "    return data\n",
    "\n",
    "\n",
    "def alpha_02(data: pd.DataFrame) -> pd.DataFrame:\n",
    "    \"\"\"\n",
    "    Alpha function\n",
    "    \"\"\"\n",
    "    return data\n",
    "\n",
    "\n",
    "def alpha_03(data: pd.DataFrame) -> pd.DataFrame:\n",
    "    \"\"\"\n",
    "    Alpha function\n",
    "    \"\"\"\n",
    "    return data\n",
    "\n",
    "\n",
    "def custom_alpha_04(data: pd.DataFrame) -> pd.DataFrame:\n",
    "    \"\"\"\n",
    "    Alpha function\n",
    "    \"\"\"\n",
    "    return data"
   ]
  },
  {
   "cell_type": "code",
   "execution_count": 28,
   "id": "80622434",
   "metadata": {},
   "outputs": [
    {
     "name": "stdout",
     "output_type": "stream",
     "text": [
      "[*********************100%%**********************]  1 of 1 completed\n",
      "[*********************100%%**********************]  1 of 1 completed\n",
      "[*********************100%%**********************]  1 of 1 completed\n",
      "[*********************100%%**********************]  1 of 1 completed\n"
     ]
    }
   ],
   "source": [
    "alpha_funcs = [alpha_01, alpha_02, alpha_03]\n",
    "alpha_list = list(\n",
    "    map(\n",
    "        lambda alpha_func: FormulaicAlphaBuilder(\n",
    "            alpha_func=alpha_func,\n",
    "            start_date=\"19991231\",\n",
    "            vol_target=0.2,\n",
    "            get_data=None,\n",
    "        ),\n",
    "        alpha_funcs,\n",
    "    )\n",
    ")\n",
    "\n",
    "alpha_list.append(\n",
    "    # this is used to manually instantiate the classes for signals that\n",
    "    # have customized components\n",
    "    FormulaicAlphaBuilder(\n",
    "        alpha_func=custom_alpha_04,\n",
    "        start_date=\"20011231\",\n",
    "        vol_target=0.1,\n",
    "        get_data=None,\n",
    "    ),\n",
    ")\n",
    "assert len(alpha_list) == 4, \"The alpha count doesn't match up!\""
   ]
  }
 ],
 "metadata": {
  "kernelspec": {
   "display_name": "Python 3 (ipykernel)",
   "language": "python",
   "name": "python3"
  },
  "language_info": {
   "codemirror_mode": {
    "name": "ipython",
    "version": 3
   },
   "file_extension": ".py",
   "mimetype": "text/x-python",
   "name": "python",
   "nbconvert_exporter": "python",
   "pygments_lexer": "ipython3",
   "version": "3.10.6"
  }
 },
 "nbformat": 4,
 "nbformat_minor": 5
}
